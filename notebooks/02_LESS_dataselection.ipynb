{
  "cells": [
    {
      "cell_type": "code",
      "execution_count": null,
      "id": "ddfb4798-64dd-4862-83fd-2bdcf096d748",
      "metadata": {
        "colab": {
          "base_uri": "https://localhost:8080/"
        },
        "id": "ddfb4798-64dd-4862-83fd-2bdcf096d748",
        "outputId": "8534c006-b8de-4799-afba-28d05834d644"
      },
      "outputs": [
        {
          "output_type": "stream",
          "name": "stdout",
          "text": [
            "fatal: destination path 'LESS' already exists and is not an empty directory.\n",
            "[Errno 2] No such file or directory: 'implicit-ins-improved'\n",
            "/content/implicit-ins-improved\n"
          ]
        }
      ],
      "source": [
        "# Mount Google Drive if needed (optional)\n",
        "!git clone --recurse-submodules https://github.com/porwai/implicit-ins-improved.git\n",
        "%cd implicit-ins-improved"
      ]
    },
    {
      "cell_type": "code",
      "source": [
        "# ⚙️ STEP 0: SETUP\n",
        "import os\n",
        "\n",
        "# Move to repo root if inside notebooks/\n",
        "if os.getcwd().endswith(\"notebooks\"):\n",
        "    os.chdir(\"..\")\n",
        "\n",
        "# Install LESS and dependencies\n",
        "!pip install torch==2.1.2 torchvision torchaudio --index-url https://download.pytorch.org/whl/cu118\n",
        "!pip install -r LESS/requirements.txt\n",
        "!pip install -e LESS/\n",
        "!pip install alpaca_eval datasets\n",
        "\n",
        "# Confirm path\n",
        "!ls LESS"
      ],
      "metadata": {
        "id": "ITJYpShaTUY4"
      },
      "id": "ITJYpShaTUY4",
      "execution_count": null,
      "outputs": []
    },
    {
      "cell_type": "code",
      "source": [
        "from datasets import load_dataset\n",
        "\n",
        "openmath = load_dataset(\"nvidia/OpenMathInstruct-1\", split=\"train\")\n"
      ],
      "metadata": {
        "id": "aSzyZuZZSKVN"
      },
      "id": "aSzyZuZZSKVN",
      "execution_count": null,
      "outputs": []
    },
    {
      "cell_type": "code",
      "source": [
        "eval_set = datasets.load_dataset(\"tatsu-lab/alpaca_eval\", \"alpaca_eval\")[\"eval\"]"
      ],
      "metadata": {
        "id": "sQap7U0vSLOj"
      },
      "id": "sQap7U0vSLOj",
      "execution_count": null,
      "outputs": []
    },
    {
      "cell_type": "code",
      "execution_count": null,
      "id": "5951fb19-bc80-44e2-ae7c-6a224a007756",
      "metadata": {
        "id": "5951fb19-bc80-44e2-ae7c-6a224a007756"
      },
      "outputs": [],
      "source": [
        "from datasets import load_dataset\n",
        "import json\n",
        "import os\n",
        "\n",
        "'''\n",
        "# Save OpenMathInstruct-1\n",
        "openmath = load_dataset(\"nvidia/OpenMathInstruct-1\", split=\"train\")\n",
        "openmath_data = [{\"messages\": ex[\"messages\"]} for ex in openmath]\n",
        "with open(\"data/openmath_full.json\", \"w\") as f:\n",
        "    json.dump(openmath_data, f)\n",
        "'''\n",
        "\n",
        "# Save AlpacaEval as target prompts\n",
        "alpaca_data = [{\"input\": x[\"instruction\"], \"output\": \"\"} for x in eval_set]\n",
        "os.makedirs(\"data/eval/alpaca_eval\", exist_ok=True)\n",
        "with open(\"data/eval/alpaca_eval/alpaca_eval.json\", \"w\") as f:\n",
        "    json.dump(alpaca_data, f)\n",
        "\n"
      ]
    },
    {
      "cell_type": "code",
      "source": [
        "from transformers import AutoTokenizer\n",
        "from less.data_selection.get_validation_dataset import get_dataset\n",
        "\n",
        "tokenizer = AutoTokenizer.from_pretrained(\"tiiuae/falcon-rw-1b\", trust_remote_code=True)\n",
        "\n",
        "# Load validation data from AlpacaEval\n",
        "val_dataset = get_dataset(\n",
        "    task=\"alpaca_eval\",\n",
        "    data_dir=\"data\",\n",
        "    tokenizer=tokenizer,\n",
        "    max_length=1024,\n",
        "    use_chat_format=True,\n",
        "    chat_format=\"tulu\"\n",
        ")\n"
      ],
      "metadata": {
        "id": "zJ9_Z12kJXXK"
      },
      "id": "zJ9_Z12kJXXK",
      "execution_count": null,
      "outputs": []
    },
    {
      "cell_type": "code",
      "source": [],
      "metadata": {
        "id": "Bd0-ey4YJXeT"
      },
      "id": "Bd0-ey4YJXeT",
      "execution_count": null,
      "outputs": []
    },
    {
      "cell_type": "code",
      "source": [],
      "metadata": {
        "id": "dv26ygmIJXhI"
      },
      "id": "dv26ygmIJXhI",
      "execution_count": null,
      "outputs": []
    },
    {
      "cell_type": "code",
      "source": [],
      "metadata": {
        "id": "g_nO0mKhJXjy"
      },
      "id": "g_nO0mKhJXjy",
      "execution_count": null,
      "outputs": []
    },
    {
      "cell_type": "code",
      "execution_count": null,
      "id": "e2894d1d-3675-4d0f-a457-8b26c84f0115",
      "metadata": {
        "id": "e2894d1d-3675-4d0f-a457-8b26c84f0115"
      },
      "outputs": [],
      "source": [
        "!bash LESS/less/scripts/train/warmup_lora_train.sh data tiiuae/falcon-rw-1b 0.05 3 falcon-warmup"
      ]
    },
    {
      "cell_type": "code",
      "source": [
        "CKPT=50  # replace with actual\n",
        "!bash LESS/less/scripts/get_info/get_train_lora_grads.sh \\\n",
        "  data/openmath_full.json \\\n",
        "  out/falcon-warmup/checkpoint-${CKPT} \\\n",
        "  grads/falcon-openmath-ckpt${CKPT} \\\n",
        "  4096 \\\n",
        "  adam\n"
      ],
      "metadata": {
        "id": "OxXMxTtzP7ZZ"
      },
      "id": "OxXMxTtzP7ZZ",
      "execution_count": null,
      "outputs": []
    },
    {
      "cell_type": "code",
      "source": [
        "!bash LESS/less/scripts/get_info/get_eval_lora_grads.sh \\\n",
        "  alpaca_eval \\\n",
        "  data \\\n",
        "  out/falcon-warmup/checkpoint-${CKPT} \\\n",
        "  grads/falcon-alpaca-ckpt${CKPT}-sgd \\\n",
        "  \"4096\"\n"
      ],
      "metadata": {
        "id": "Qt7eHf0KP9C2"
      },
      "id": "Qt7eHf0KP9C2",
      "execution_count": null,
      "outputs": []
    },
    {
      "cell_type": "code",
      "source": [
        "!bash LESS/less/scripts/data_selection/matching.sh \\\n",
        "  grads/falcon-openmath-ckpt${CKPT}/dim4096 \\\n",
        "  openmath \\\n",
        "  ${CKPT} \\\n",
        "  1e-5 \\\n",
        "  grads/falcon-alpaca-ckpt${CKPT}-sgd/dim4096 \\\n",
        "  alpaca_eval \\\n",
        "  selected_data\n"
      ],
      "metadata": {
        "id": "iB-25glXP_Fi"
      },
      "id": "iB-25glXP_Fi",
      "execution_count": null,
      "outputs": []
    },
    {
      "cell_type": "code",
      "source": [
        "!python3 -m less.data_selection.write_selected_data \\\n",
        "--target_task_names alpaca_eval \\\n",
        "--train_file_names openmath \\\n",
        "--train_files data/openmath_full.json \\\n",
        "--output_path selected_data \\\n",
        "--k 1000\n"
      ],
      "metadata": {
        "id": "KUcZRsQ4P_Gu"
      },
      "id": "KUcZRsQ4P_Gu",
      "execution_count": null,
      "outputs": []
    }
  ],
  "metadata": {
    "kernelspec": {
      "display_name": "Python (cos-484-final)",
      "language": "python",
      "name": "cos-484-final"
    },
    "language_info": {
      "codemirror_mode": {
        "name": "ipython",
        "version": 3
      },
      "file_extension": ".py",
      "mimetype": "text/x-python",
      "name": "python",
      "nbconvert_exporter": "python",
      "pygments_lexer": "ipython3",
      "version": "3.10.17"
    },
    "colab": {
      "provenance": []
    }
  },
  "nbformat": 4,
  "nbformat_minor": 5
}