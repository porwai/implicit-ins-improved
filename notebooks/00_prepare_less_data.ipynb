{
 "cells": [
  {
   "cell_type": "code",
   "execution_count": null,
   "id": "970081bb-877d-4a67-aa1f-1df303f45abb",
   "metadata": {},
   "outputs": [],
   "source": [
    "!git clone https://github.com/porwai/implicit-ins-improved.git\n",
    "%cd implicit-ins-improved\n"
   ]
  },
  {
   "cell_type": "code",
   "execution_count": null,
   "id": "3d47cfed-aa9e-49dd-914f-6f38080c946a",
   "metadata": {},
   "outputs": [],
   "source": [
    "!pip install datasets tqdm\n"
   ]
  },
  {
   "cell_type": "code",
   "execution_count": null,
   "id": "50ed29e5-2b38-40bc-9ca1-be9ea2d2844f",
   "metadata": {},
   "outputs": [],
   "source": [
    "!python scripts/convert_openmath_less_format.py\n",
    "!python scripts/convert_gsm8k_less_format.py\n",
    "\n"
   ]
  },
  {
   "cell_type": "code",
   "execution_count": null,
   "id": "9abddadc-9d36-493a-addb-94e2fa1d92ac",
   "metadata": {},
   "outputs": [],
   "source": [
    "!head -n 1 data/train/processed/openmath/openmath_data.jsonl\n",
    "!head -n 1 data/eval/processed/gsm8k/gsm8k_data.jsonl\n"
   ]
  },
  {
   "cell_type": "code",
   "execution_count": null,
   "id": "7488c9df-da39-4db4-b2f7-44cc6511a65b",
   "metadata": {},
   "outputs": [],
   "source": [
    "!zip -r openmath_gsm8k_less_data.zip data/"
   ]
  }
 ],
 "metadata": {
  "kernelspec": {
   "display_name": "Python (cos-484-final)",
   "language": "python",
   "name": "cos-484-final"
  },
  "language_info": {
   "codemirror_mode": {
    "name": "ipython",
    "version": 3
   },
   "file_extension": ".py",
   "mimetype": "text/x-python",
   "name": "python",
   "nbconvert_exporter": "python",
   "pygments_lexer": "ipython3",
   "version": "3.10.17"
  }
 },
 "nbformat": 4,
 "nbformat_minor": 5
}
